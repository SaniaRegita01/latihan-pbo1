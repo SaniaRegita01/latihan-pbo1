{
  "nbformat": 4,
  "nbformat_minor": 0,
  "metadata": {
    "colab": {
      "provenance": [],
      "include_colab_link": true
    },
    "kernelspec": {
      "name": "python3",
      "display_name": "Python 3"
    },
    "language_info": {
      "name": "python"
    }
  },
  "cells": [
    {
      "cell_type": "markdown",
      "metadata": {
        "id": "view-in-github",
        "colab_type": "text"
      },
      "source": [
        "<a href=\"https://colab.research.google.com/github/SaniaRegita01/latihan-pbo1/blob/main/Copy_of_TugasEnkapsulasi2.ipynb\" target=\"_parent\"><img src=\"https://colab.research.google.com/assets/colab-badge.svg\" alt=\"Open In Colab\"/></a>"
      ]
    },
    {
      "cell_type": "markdown",
      "source": [
        "Buatlah kelas RekeningBank dengan atribut berikut:\n",
        "\n",
        "*   nama_pemilik (private)\n",
        "*   saldo (private)\n",
        "\n",
        "Berikan metode berikut:\n",
        "\n",
        "*   __init__: Menginisialisasi saldo dan nama_pemilik.\n",
        "*   set_saldo: Mengubah nilai saldo.\n",
        "*   get_saldo: Mengembalikan nilai saldo.\n",
        "*   set_nama_pemilik: Mengubah nama pemilik.\n",
        "*   get_nama_pemilik: Mengembalikan nama pemilik.\n",
        "\n",
        "\n",
        "\n",
        "\n",
        "\n",
        "\n",
        "\n",
        "\n"
      ],
      "metadata": {
        "id": "PktiI90eS6Ee"
      }
    },
    {
      "cell_type": "code",
      "source": [
        "# Desain class\n",
        "class RekeningBank:\n",
        "  def __init__(self, nama_pemilik, saldo):\n",
        "    self.__nama_pemilik = nama_pemilik\n",
        "    self.__saldo = saldo\n",
        "\n",
        "  def get_nama_pemilik(self):\n",
        "    return self.__nama_pemilik\n",
        "  def set_nama_pemilik(self, nama_pemilik):\n",
        "    self.__nama_pemilik = nama_pemilik\n",
        "\n",
        "  def get_saldo(self):\n",
        "    return self.__saldo\n",
        "  def set_saldo(self, saldo):\n",
        "    if saldo > 1000000:\n",
        "      self.__saldo = 1000000\n",
        "    elif saldo < 2000000:\n",
        "      self.__saldo = 2000000\n",
        "    else:\n",
        "      self.__saldo = saldo\n"
      ],
      "metadata": {
        "id": "Pyj-mkyciVfk"
      },
      "execution_count": 5,
      "outputs": []
    },
    {
      "cell_type": "code",
      "source": [
        "#Program utama untuk mendemonstrasikan class RekeningBank\n",
        "#yang menunjukkan penggunaan semua fungsi yang ada\n",
        "# Membuat objek RekeningBank dengan nama Sania dengan saldo 5000000\n",
        "user = RekeningBank('Sania', 5000000)\n",
        "\n",
        "# Mengakses/menampilkan nama dan saldo menggunakan fungsi\n",
        "print('Nama saya', user.get_nama_pemilik(), 'mempunyai saldo sebesar Rp.', user.get_saldo())\n",
        "\n",
        "# Mengubah nama menjadi nama anda masing-masing dan saldo bebas menggunakan fungsi\n",
        "user.set_nama_pemilik('Regita')\n",
        "user.set_saldo(2500000)\n",
        "\n",
        "# Mengakses/menampilkan nama dan saldo setelah diubah\n",
        "print('Nama saya', user.get_nama_pemilik(), 'mempunyai saldo sebesar Rp.', user.get_saldo())"
      ],
      "metadata": {
        "id": "aOwy6rfdSga2",
        "colab": {
          "base_uri": "https://localhost:8080/"
        },
        "outputId": "59db2f7b-eba3-4e4a-ef88-34a8dfc86f55"
      },
      "execution_count": 6,
      "outputs": [
        {
          "output_type": "stream",
          "name": "stdout",
          "text": [
            "Nama saya Sania mempunyai saldo sebesar Rp. 5000000\n",
            "Nama saya Regita mempunyai saldo sebesar Rp. 1000000\n"
          ]
        }
      ]
    }
  ]
}
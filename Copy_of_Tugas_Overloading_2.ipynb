{
  "nbformat": 4,
  "nbformat_minor": 0,
  "metadata": {
    "colab": {
      "provenance": [],
      "include_colab_link": true
    },
    "kernelspec": {
      "name": "python3",
      "display_name": "Python 3"
    },
    "language_info": {
      "name": "python"
    }
  },
  "cells": [
    {
      "cell_type": "markdown",
      "metadata": {
        "id": "view-in-github",
        "colab_type": "text"
      },
      "source": [
        "<a href=\"https://colab.research.google.com/github/SaniaRegita01/latihan-pbo1/blob/main/Copy_of_Tugas_Overloading_2.ipynb\" target=\"_parent\"><img src=\"https://colab.research.google.com/assets/colab-badge.svg\" alt=\"Open In Colab\"/></a>"
      ]
    },
    {
      "cell_type": "code",
      "execution_count": 3,
      "metadata": {
        "id": "5zCytCeM1uD4"
      },
      "outputs": [],
      "source": [
        "#class Nama\n",
        "#Buat fungsi yang digunakan untuk mengabungkan nama dengan ketentuan nama depan, nama tengah, nama akhir, dan seterusnya dianggap 1 (satu) parameter\n",
        "class nama:\n",
        "  def gabung(self,*args):\n",
        "    if (len(args)<=4):\n",
        "      sum=\"\"\n",
        "      for num in args:\n",
        "        sum+= num\n",
        "        print(sum)\n",
        "    else:\n",
        "        print(\"maksimum\")"
      ]
    },
    {
      "cell_type": "code",
      "source": [
        "#Buat main program\n",
        "#Panggil fungsi untuk membuat nama lengkap 4 nama teman kalian\n",
        "hasil=nama()\n",
        "hasil.gabung(\"sania \" , \"regita \" , \"prahesty \")\n",
        "hasil.gabung(\"sutri \" , \"yani \")\n",
        "hasil.gabung(\"riya \" , \"agustin \")\n",
        "hasil.gabung(\"aulia \" , \"putri \")\n",
        "hasil.gabung(\"neyla \" , \"ayudya \")"
      ],
      "metadata": {
        "id": "liQBcJWZ12MN",
        "colab": {
          "base_uri": "https://localhost:8080/"
        },
        "outputId": "a437dfac-d634-4c0f-cd45-f97bca8b96fb"
      },
      "execution_count": 7,
      "outputs": [
        {
          "output_type": "stream",
          "name": "stdout",
          "text": [
            "sania \n",
            "sania regita \n",
            "sania regita prahesty \n",
            "sutri \n",
            "sutri yani \n",
            "riya \n",
            "riya agustin \n",
            "aulia \n",
            "aulia putri \n",
            "neyla \n",
            "neyla ayudya \n"
          ]
        }
      ]
    },
    {
      "cell_type": "code",
      "source": [
        "#Tulisakan kesimpulan dari materi Overloading menurut pemahaman anda!\n",
        "#menurut saya materi overloding ini kita bisa membuat sebuah metode yang bisa mengenal beberapa variasi jumlah parameter."
      ],
      "metadata": {
        "id": "xwFmppIG3JGE"
      },
      "execution_count": 6,
      "outputs": []
    }
  ]
}
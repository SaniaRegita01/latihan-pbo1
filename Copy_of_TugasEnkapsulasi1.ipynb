{
  "nbformat": 4,
  "nbformat_minor": 0,
  "metadata": {
    "colab": {
      "provenance": [],
      "include_colab_link": true
    },
    "kernelspec": {
      "name": "python3",
      "display_name": "Python 3"
    },
    "language_info": {
      "name": "python"
    }
  },
  "cells": [
    {
      "cell_type": "markdown",
      "metadata": {
        "id": "view-in-github",
        "colab_type": "text"
      },
      "source": [
        "<a href=\"https://colab.research.google.com/github/SaniaRegita01/latihan-pbo1/blob/main/Copy_of_TugasEnkapsulasi1.ipynb\" target=\"_parent\"><img src=\"https://colab.research.google.com/assets/colab-badge.svg\" alt=\"Open In Colab\"/></a>"
      ]
    },
    {
      "cell_type": "code",
      "execution_count": 1,
      "metadata": {
        "id": "ihePdlIsSR5E"
      },
      "outputs": [],
      "source": [
        "class Karyawan:\n",
        "  def __init__(self, nama, gaji):\n",
        "    self.__nama = nama\n",
        "  def hitung_gaji(self):\n",
        "    self.__gaji = gaji\n",
        "\n",
        "\n",
        "  def get_nama(self):\n",
        "    return self.__nama\n",
        "\n",
        "  # Fungsi untuk mengubah nama\n",
        "  def set_nama(self, nama):\n",
        "    self.__nama = nama\n",
        "\n",
        "  # Fungsi untuk mengakses gaji\n",
        "  def get_gaji(self):\n",
        "    #lengkapireturn s\n",
        "    self.__gaji\n",
        "\n",
        "  # Fungsi untuk mengubah gaji\n",
        "  def set_gaji(self, gaji):\n",
        "    #lengkapi\n",
        "    if gaji > 6000000:\n",
        "      self.__gaji = 5000000\n",
        "    elif gaji < 5000000:\n",
        "      self.__gaji = 4000000\n",
        "    else:\n",
        "      self.__gaji = gaji > 600"
      ]
    },
    {
      "cell_type": "code",
      "source": [
        "# Membuat objek Karyawan dengan nama Ahmad dengan gaji 4000000\n",
        "karyawan1 = Karyawan('Ahmad', 4000000)\n",
        "\n",
        "# Mengakses/menampilkan nama dan gaji menggunakan fungsi\n",
        "print(karyawan1.get_nama())\n",
        "\n",
        "# Mengubah nama menjadi nama anda masing-masing dan gaji bebas menggunakan fungsi\n",
        "karyawan1.set_nama('Sania regita')\n",
        "karyawan1.set_gaji(3000000)\n",
        "\n",
        "\n",
        "# Mengakses/menampilkan nama dan gaji setelah diubah\n",
        "print('Karyawan bernama', karyawan1.get_nama(), 'dan memiliki gaji rata-rata sebesar Rp.', karyawan1.get_gaji())"
      ],
      "metadata": {
        "id": "aOwy6rfdSga2",
        "colab": {
          "base_uri": "https://localhost:8080/"
        },
        "outputId": "424a609c-231e-4d84-a40d-3a6174401d48"
      },
      "execution_count": 2,
      "outputs": [
        {
          "output_type": "stream",
          "name": "stdout",
          "text": [
            "Ahmad\n",
            "Karyawan bernama Sania regita dan memiliki gaji rata-rata sebesar Rp. None\n"
          ]
        }
      ]
    }
  ]
}
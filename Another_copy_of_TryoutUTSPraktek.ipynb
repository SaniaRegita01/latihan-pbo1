{
  "nbformat": 4,
  "nbformat_minor": 0,
  "metadata": {
    "colab": {
      "provenance": [],
      "include_colab_link": true
    },
    "kernelspec": {
      "name": "python3",
      "display_name": "Python 3"
    },
    "language_info": {
      "name": "python"
    }
  },
  "cells": [
    {
      "cell_type": "markdown",
      "metadata": {
        "id": "view-in-github",
        "colab_type": "text"
      },
      "source": [
        "<a href=\"https://colab.research.google.com/github/SaniaRegita01/latihan-pbo1/blob/main/Another_copy_of_TryoutUTSPraktek.ipynb\" target=\"_parent\"><img src=\"https://colab.research.google.com/assets/colab-badge.svg\" alt=\"Open In Colab\"/></a>"
      ]
    },
    {
      "cell_type": "markdown",
      "source": [
        "Anda adalah seorang ilmuwan lingkungan yang bekerja dalam penelitian organisme di berbagai ekosistem. Anda memiliki kelas dasar Organisme dengan atribut berikut:\n",
        "\n",
        "*   nama (nama organisme)\n",
        "*   jenis (jenis organisme, misalnya, tumbuhan, hewan, mikroba, dll.)\n",
        "\n",
        "Selain itu, Anda memiliki dua jenis organisme spesifik: **Tumbuhan** dan **Hewan**.\n",
        "\n",
        "Tumbuhan memiliki atribut tambahan yaitu lokasi (lokasi tumbuhan ditemukan, misalnya, hutan, sungai, dll.)\n",
        "\n",
        "Sementara Hewan memiliki atribut tambahan yaitu makanan (jenis makanan yang dikonsumsi hewan, misalnya, herbivora, karnivora, omnivora, dll.)\n",
        "\n",
        "\n",
        "Anda ditugaskan membuat program Python yang memungkinkan Anda untuk mencetak informasi tentang setiap organisme, termasuk nama, jenis, serta atribut tambahan yang sesuai (lokasi atau jenis makanan)."
      ],
      "metadata": {
        "id": "Xcnm52jtL9YY"
      }
    },
    {
      "cell_type": "code",
      "execution_count": 1,
      "metadata": {
        "id": "9pLv2WhSLUZc"
      },
      "outputs": [],
      "source": [
        "class Organisme:\n",
        "  def __init__(self, nama, jenis):\n",
        "    self.nama = nama\n",
        "    self.jenis = jenis\n",
        ""
      ]
    },
    {
      "cell_type": "code",
      "source": [
        "class Tumbuhan(Organisme):\n",
        "    def __init__(self, nama, jenis, lokasi):\n",
        "       super().__init__(nama,jenis)\n",
        "       self.lokasi = lokasi\n",
        "    def info(self):\n",
        "       print('nama :',self.nama)\n",
        "       print('jenis :',self.jenis)"
      ],
      "metadata": {
        "id": "aZ-2FjdaObMu"
      },
      "execution_count": 2,
      "outputs": []
    },
    {
      "cell_type": "code",
      "source": [
        "class Hewan(Organisme):\n",
        "  def __init__(self, nama, jenis, makanan):\n",
        "    self.nama = nama\n",
        "    self.jenis = jenis\n",
        "  def __init__(self, nama, jenis, makanan):\n",
        "    super().__init__(nama, jenis)\n",
        "    self.makanan = makanan\n",
        "  def info(self):\n",
        "    print('nama :',self.nama)\n",
        "    print('jenis :',self.jenis)"
      ],
      "metadata": {
        "id": "ItwqUUUjOdp4"
      },
      "execution_count": 3,
      "outputs": []
    },
    {
      "cell_type": "code",
      "source": [
        "#Buat program disini untuk menggunakan class-class di atas dan menampilkan informasi\n",
        "Tumbuhan1 = Tumbuhan('matahari', 'tumbuhan', 'taman bunga')\n",
        "Hewan2 = Hewan('kelinci', 'hewan', 'herbivora')\n",
        "\n",
        "Tumbuhan1.info()\n",
        "Hewan2.info()"
      ],
      "metadata": {
        "id": "gWi4_l0gOe-8",
        "colab": {
          "base_uri": "https://localhost:8080/"
        },
        "outputId": "737893e5-b0ae-45a6-e050-8b9d4084b687"
      },
      "execution_count": 7,
      "outputs": [
        {
          "output_type": "stream",
          "name": "stdout",
          "text": [
            "nama : matahari\n",
            "jenis : tumbuhan\n",
            "nama : kelinci\n",
            "jenis : hewan\n"
          ]
        }
      ]
    },
    {
      "cell_type": "markdown",
      "source": [
        "# Penjelasan:\n",
        "\n",
        "Class ........... adalah kelas induk dengan atribut **..........** dan **.........**. Fungsi **................** dalam kelas ini mencetak informasi umum tentang organisme.\n",
        "\n",
        "Class **Tumbuhan** ............... class Organisme dan memiliki ........... tambahan **lokasi**. Fungsi **............** dalam class ini memanggil fungsi **...........** dari class dasar (super().deskripsi()) dan mencetak informasi tambahan tentang tumbuhan, yaitu **...........**.\n",
        "\n",
        "Class **Hewan** juga mewarisi dari class **.............** dan memiliki ........ ......... **makanan**. Fungsi **..............** dalam class ini juga memanggil ......... ......... dari ......... ......... dan mencetak informasi tambahan tentang ......., yaitu **..........**"
      ],
      "metadata": {
        "id": "2xAfWE4hMnGD"
      }
    }
  ]
}